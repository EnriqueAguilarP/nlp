{
 "cells": [
  {
   "attachments": {},
   "cell_type": "markdown",
   "metadata": {},
   "source": [
    "# Regex with Re module [python]"
   ]
  },
  {
   "cell_type": "code",
   "execution_count": 2,
   "metadata": {},
   "outputs": [
    {
     "name": "stdout",
     "output_type": "stream",
     "text": [
      "['Are you ready', ' This is a sentence', ' My age is 30 years old', ' I will be a Data Engineer soon', '']\n",
      "['Are', 'This', 'My', 'Data', 'Engineer']\n",
      "['Are', 'you', 'ready?', 'This', 'is', 'a', 'sentence.', 'My', 'age', 'is', '30', 'years', 'old.', 'I', 'will', 'be', 'a', 'Data', 'Engineer', 'soon!']\n",
      "['30']\n"
     ]
    }
   ],
   "source": [
    "import re\n",
    "my_string = \"Are you ready? This is a sentence. My age is 30 years old. I will be a Data Engineer soon!\"\n",
    "\n",
    "# Split my_string on sentence endings and print the result\n",
    "sentence_endings = r\"[.?!]\"\n",
    "print(re.split(sentence_endings, my_string))\n",
    "\n",
    "# Find all capitalized words in my_string and print the result\n",
    "capitalized_words = r\"[A-Z]\\w+\"\n",
    "print(re.findall(capitalized_words, my_string))\n",
    "\n",
    "# Split my_string on spaces and print the result\n",
    "spaces = r\"\\s+\"\n",
    "print(re.split(spaces, my_string))\n",
    "\n",
    "# Find all digits in my_string and print the result\n",
    "digits = r\"\\d+\"\n",
    "print(re.findall(digits, my_string))\n"
   ]
  }
 ],
 "metadata": {
  "kernelspec": {
   "display_name": "Python 3",
   "language": "python",
   "name": "python3"
  },
  "language_info": {
   "codemirror_mode": {
    "name": "ipython",
    "version": 3
   },
   "file_extension": ".py",
   "mimetype": "text/x-python",
   "name": "python",
   "nbconvert_exporter": "python",
   "pygments_lexer": "ipython3",
   "version": "3.8.5"
  },
  "orig_nbformat": 4,
  "vscode": {
   "interpreter": {
    "hash": "dc100b7ab470ce2bfc22740f5e4830506a822cbbb216eca23e98c59fc2cea398"
   }
  }
 },
 "nbformat": 4,
 "nbformat_minor": 2
}

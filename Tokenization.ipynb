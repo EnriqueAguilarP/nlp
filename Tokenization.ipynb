{
 "cells": [
  {
   "attachments": {},
   "cell_type": "markdown",
   "metadata": {},
   "source": [
    "# Tokenization"
   ]
  },
  {
   "cell_type": "code",
   "execution_count": 1,
   "metadata": {},
   "outputs": [
    {
     "name": "stdout",
     "output_type": "stream",
     "text": [
      "['You will rejoice to hear that no disaster has accompanied the commencement of an enterprise which you have regarded with such evil forebodings.', 'I arrived here yesterday, and my first task is to assure my dear sister of my welfare and increasing confidence in the success of my undertaking.']\n",
      "['I', 'arrived', 'here', 'yesterday', ',', 'and', 'my', 'first', 'task', 'is', 'to', 'assure', 'my', 'dear', 'sister', 'of', 'my', 'welfare', 'and', 'increasing', 'confidence', 'in', 'the', 'success', 'of', 'my', 'undertaking', '.']\n",
      "33 41\n"
     ]
    }
   ],
   "source": [
    "# Import necessary modules\n",
    "import nltk\n",
    "import re\n",
    "frankenstein = \"\"\"You will rejoice to hear that no disaster has accompanied the commencement of an enterprise which you have regarded with such evil forebodings. I arrived here yesterday, and my first task is to assure my dear sister of my welfare and increasing confidence in the success of my undertaking.\"\"\"\n",
    "# Split frankenstein fragment into sentences:\n",
    "sentence = nltk.sent_tokenize(frankenstein)\n",
    "print(sentence)\n",
    "#Use word_tokenize to tokenize the second sentence\n",
    "tokenized_sentence = nltk.word_tokenize(sentence[1])\n",
    "print(tokenized_sentence)\n",
    "\n",
    "# Search for the first occurrence of \"disaster\" in frankenstein\n",
    "match = re.search(\"disaster\", frankenstein)\n",
    "\n",
    "# Print the start and end indexes of match\n",
    "print(match.start(), match.end())"
   ]
  }
 ],
 "metadata": {
  "kernelspec": {
   "display_name": "Python 3",
   "language": "python",
   "name": "python3"
  },
  "language_info": {
   "codemirror_mode": {
    "name": "ipython",
    "version": 3
   },
   "file_extension": ".py",
   "mimetype": "text/x-python",
   "name": "python",
   "nbconvert_exporter": "python",
   "pygments_lexer": "ipython3",
   "version": "3.8.5"
  },
  "orig_nbformat": 4
 },
 "nbformat": 4,
 "nbformat_minor": 2
}
